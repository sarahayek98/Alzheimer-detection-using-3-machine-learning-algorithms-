{
  "nbformat": 4,
  "nbformat_minor": 0,
  "metadata": {
    "colab": {
      "provenance": [],
      "authorship_tag": "ABX9TyPEzl7Di0rvbUF9xfbrqoAk",
      "include_colab_link": true
    },
    "kernelspec": {
      "name": "python3",
      "display_name": "Python 3"
    },
    "language_info": {
      "name": "python"
    }
  },
  "cells": [
    {
      "cell_type": "markdown",
      "metadata": {
        "id": "view-in-github",
        "colab_type": "text"
      },
      "source": [
        "<a href=\"https://colab.research.google.com/github/sarahayek98/Alzheimer-detection-using-3-machine-learning-algorithms-/blob/main/KNN1.ipynb\" target=\"_parent\"><img src=\"https://colab.research.google.com/assets/colab-badge.svg\" alt=\"Open In Colab\"/></a>"
      ]
    },
    {
      "cell_type": "markdown",
      "source": [
        "Import packages"
      ],
      "metadata": {
        "id": "ol0rSOJs34Zu"
      }
    },
    {
      "cell_type": "code",
      "execution_count": 1,
      "metadata": {
        "colab": {
          "base_uri": "https://localhost:8080/"
        },
        "id": "3hdQouZd6IYu",
        "outputId": "dfd59dac-617c-41d1-f127-6b1099238f9d"
      },
      "outputs": [
        {
          "output_type": "stream",
          "name": "stdout",
          "text": [
            "Mounted at /content/drive\n"
          ]
        }
      ],
      "source": [
        "from google.colab import drive\n",
        "drive.mount('/content/drive')\n",
        "\n",
        "\n",
        "import os\n",
        "import numpy as np\n",
        "from sklearn.model_selection import train_test_split\n",
        "from sklearn.neighbors import KNeighborsClassifier\n",
        "from sklearn.metrics import accuracy_score\n",
        "from sklearn.preprocessing import LabelEncoder\n",
        "from sklearn.preprocessing import StandardScaler\n",
        "from skimage.io import imread\n",
        "from skimage.transform import resize"
      ]
    },
    {
      "cell_type": "markdown",
      "source": [
        "Mount Google Drive to access uploaded files"
      ],
      "metadata": {
        "id": "78F3BflJ3t2-"
      }
    },
    {
      "cell_type": "code",
      "source": [
        "# Set the path to your dataset\n",
        "path_to_dataset = '/content/drive/MyDrive/Colab Notebooks/Alzheimer Dataset/Alzheimer Dataset'"
      ],
      "metadata": {
        "id": "DSyd8WRZ7x1k"
      },
      "execution_count": 2,
      "outputs": []
    },
    {
      "cell_type": "markdown",
      "source": [
        "Efficient Dataset Loading and Preprocessing Function"
      ],
      "metadata": {
        "id": "7f9UY-rL2xiO"
      }
    },
    {
      "cell_type": "code",
      "source": [
        "# Function to load and preprocess the dataset\n",
        "def load_and_preprocess_dataset(folder):\n",
        "    data = []\n",
        "    labels = []\n",
        "\n",
        "    for class_folder in os.listdir(os.path.join(path_to_dataset, folder)):\n",
        "        class_path = os.path.join(path_to_dataset, folder, class_folder)\n",
        "\n",
        "        for image_file in os.listdir(class_path):\n",
        "            image_path = os.path.join(class_path, image_file)\n",
        "            image = imread(image_path, as_gray=True)\n",
        "            image = resize(image, (100, 100))  # Adjust the size as needed\n",
        "            flattened_image = image.flatten()\n",
        "\n",
        "            data.append(flattened_image)\n",
        "            labels.append(class_folder)\n",
        "\n",
        "    return np.array(data), np.array(labels)"
      ],
      "metadata": {
        "id": "z5Rm5Gx_8K2J"
      },
      "execution_count": 3,
      "outputs": []
    },
    {
      "cell_type": "code",
      "source": [
        "# Load and preprocess the training dataset\n",
        "train_data, train_labels = load_and_preprocess_dataset('train')\n"
      ],
      "metadata": {
        "id": "2WgRpFoGHXX-"
      },
      "execution_count": 4,
      "outputs": []
    },
    {
      "cell_type": "code",
      "source": [
        "# Load and preprocess the testing dataset\n",
        "test_data, test_labels = load_and_preprocess_dataset('test')"
      ],
      "metadata": {
        "id": "opxFJfxeZtU3"
      },
      "execution_count": 5,
      "outputs": []
    },
    {
      "cell_type": "code",
      "source": [
        "# Encode labels\n",
        "label_encoder = LabelEncoder()\n",
        "train_labels_encoded = label_encoder.fit_transform(train_labels)\n",
        "test_labels_encoded = label_encoder.transform(test_labels)\n"
      ],
      "metadata": {
        "id": "1uEtQuDMaYgT"
      },
      "execution_count": 6,
      "outputs": []
    },
    {
      "cell_type": "code",
      "source": [
        "# Normalize pixel values\n",
        "scaler = StandardScaler()\n",
        "train_data_normalized = scaler.fit_transform(train_data)\n",
        "test_data_normalized = scaler.transform(test_data)\n"
      ],
      "metadata": {
        "id": "p6tNRKoJseVj"
      },
      "execution_count": 7,
      "outputs": []
    },
    {
      "cell_type": "code",
      "source": [
        "# Split the data into training and testing sets\n",
        "X_train, X_val, y_train, y_val = train_test_split(\n",
        "    train_data_normalized, train_labels_encoded, test_size=0.2, random_state=42\n",
        ")\n"
      ],
      "metadata": {
        "id": "7_9imfogvX8B"
      },
      "execution_count": 8,
      "outputs": []
    },
    {
      "cell_type": "code",
      "source": [
        "# Train the KNN model\n",
        "knn_model = KNeighborsClassifier(n_neighbors=5)  # You can experiment with different values of k\n",
        "knn_model.fit(X_train, y_train)\n"
      ],
      "metadata": {
        "colab": {
          "base_uri": "https://localhost:8080/",
          "height": 74
        },
        "id": "2X0Hwe6dvX93",
        "outputId": "cce2738d-9778-4aa8-b573-2ca8bac8a2a0"
      },
      "execution_count": 9,
      "outputs": [
        {
          "output_type": "execute_result",
          "data": {
            "text/plain": [
              "KNeighborsClassifier()"
            ],
            "text/html": [
              "<style>#sk-container-id-1 {color: black;background-color: white;}#sk-container-id-1 pre{padding: 0;}#sk-container-id-1 div.sk-toggleable {background-color: white;}#sk-container-id-1 label.sk-toggleable__label {cursor: pointer;display: block;width: 100%;margin-bottom: 0;padding: 0.3em;box-sizing: border-box;text-align: center;}#sk-container-id-1 label.sk-toggleable__label-arrow:before {content: \"▸\";float: left;margin-right: 0.25em;color: #696969;}#sk-container-id-1 label.sk-toggleable__label-arrow:hover:before {color: black;}#sk-container-id-1 div.sk-estimator:hover label.sk-toggleable__label-arrow:before {color: black;}#sk-container-id-1 div.sk-toggleable__content {max-height: 0;max-width: 0;overflow: hidden;text-align: left;background-color: #f0f8ff;}#sk-container-id-1 div.sk-toggleable__content pre {margin: 0.2em;color: black;border-radius: 0.25em;background-color: #f0f8ff;}#sk-container-id-1 input.sk-toggleable__control:checked~div.sk-toggleable__content {max-height: 200px;max-width: 100%;overflow: auto;}#sk-container-id-1 input.sk-toggleable__control:checked~label.sk-toggleable__label-arrow:before {content: \"▾\";}#sk-container-id-1 div.sk-estimator input.sk-toggleable__control:checked~label.sk-toggleable__label {background-color: #d4ebff;}#sk-container-id-1 div.sk-label input.sk-toggleable__control:checked~label.sk-toggleable__label {background-color: #d4ebff;}#sk-container-id-1 input.sk-hidden--visually {border: 0;clip: rect(1px 1px 1px 1px);clip: rect(1px, 1px, 1px, 1px);height: 1px;margin: -1px;overflow: hidden;padding: 0;position: absolute;width: 1px;}#sk-container-id-1 div.sk-estimator {font-family: monospace;background-color: #f0f8ff;border: 1px dotted black;border-radius: 0.25em;box-sizing: border-box;margin-bottom: 0.5em;}#sk-container-id-1 div.sk-estimator:hover {background-color: #d4ebff;}#sk-container-id-1 div.sk-parallel-item::after {content: \"\";width: 100%;border-bottom: 1px solid gray;flex-grow: 1;}#sk-container-id-1 div.sk-label:hover label.sk-toggleable__label {background-color: #d4ebff;}#sk-container-id-1 div.sk-serial::before {content: \"\";position: absolute;border-left: 1px solid gray;box-sizing: border-box;top: 0;bottom: 0;left: 50%;z-index: 0;}#sk-container-id-1 div.sk-serial {display: flex;flex-direction: column;align-items: center;background-color: white;padding-right: 0.2em;padding-left: 0.2em;position: relative;}#sk-container-id-1 div.sk-item {position: relative;z-index: 1;}#sk-container-id-1 div.sk-parallel {display: flex;align-items: stretch;justify-content: center;background-color: white;position: relative;}#sk-container-id-1 div.sk-item::before, #sk-container-id-1 div.sk-parallel-item::before {content: \"\";position: absolute;border-left: 1px solid gray;box-sizing: border-box;top: 0;bottom: 0;left: 50%;z-index: -1;}#sk-container-id-1 div.sk-parallel-item {display: flex;flex-direction: column;z-index: 1;position: relative;background-color: white;}#sk-container-id-1 div.sk-parallel-item:first-child::after {align-self: flex-end;width: 50%;}#sk-container-id-1 div.sk-parallel-item:last-child::after {align-self: flex-start;width: 50%;}#sk-container-id-1 div.sk-parallel-item:only-child::after {width: 0;}#sk-container-id-1 div.sk-dashed-wrapped {border: 1px dashed gray;margin: 0 0.4em 0.5em 0.4em;box-sizing: border-box;padding-bottom: 0.4em;background-color: white;}#sk-container-id-1 div.sk-label label {font-family: monospace;font-weight: bold;display: inline-block;line-height: 1.2em;}#sk-container-id-1 div.sk-label-container {text-align: center;}#sk-container-id-1 div.sk-container {/* jupyter's `normalize.less` sets `[hidden] { display: none; }` but bootstrap.min.css set `[hidden] { display: none !important; }` so we also need the `!important` here to be able to override the default hidden behavior on the sphinx rendered scikit-learn.org. See: https://github.com/scikit-learn/scikit-learn/issues/21755 */display: inline-block !important;position: relative;}#sk-container-id-1 div.sk-text-repr-fallback {display: none;}</style><div id=\"sk-container-id-1\" class=\"sk-top-container\"><div class=\"sk-text-repr-fallback\"><pre>KNeighborsClassifier()</pre><b>In a Jupyter environment, please rerun this cell to show the HTML representation or trust the notebook. <br />On GitHub, the HTML representation is unable to render, please try loading this page with nbviewer.org.</b></div><div class=\"sk-container\" hidden><div class=\"sk-item\"><div class=\"sk-estimator sk-toggleable\"><input class=\"sk-toggleable__control sk-hidden--visually\" id=\"sk-estimator-id-1\" type=\"checkbox\" checked><label for=\"sk-estimator-id-1\" class=\"sk-toggleable__label sk-toggleable__label-arrow\">KNeighborsClassifier</label><div class=\"sk-toggleable__content\"><pre>KNeighborsClassifier()</pre></div></div></div></div></div>"
            ]
          },
          "metadata": {},
          "execution_count": 9
        }
      ]
    },
    {
      "cell_type": "markdown",
      "source": [
        "Evaluating Model Performance on Validation Set\n",
        "\n",
        "\n",
        "\n",
        "\n"
      ],
      "metadata": {
        "id": "Ulv7B8RL4f0G"
      }
    },
    {
      "cell_type": "code",
      "source": [
        "from skimage.transform import rotate\n",
        "\n",
        "def augment_data(data, labels):\n",
        "    augmented_data = []\n",
        "    augmented_labels = []\n",
        "\n",
        "    for i in range(len(data)):\n",
        "        augmented_data.append(data[i])\n",
        "        augmented_labels.append(labels[i])\n",
        "\n",
        "        # Add rotated versions of the images\n",
        "        rotated_image = rotate(data[i].reshape(100, 100), angle=45, mode='reflect').flatten()\n",
        "        augmented_data.append(rotated_image)\n",
        "        augmented_labels.append(labels[i])\n",
        "\n",
        "    return np.array(augmented_data), np.array(augmented_labels)\n",
        "\n",
        "# Augment the training data\n",
        "augmented_train_data, augmented_train_labels = augment_data(X_train, y_train)\n",
        "\n",
        "# Train the KNN model with the augmented data\n",
        "knn_model.fit(augmented_train_data, augmented_train_labels)"
      ],
      "metadata": {
        "colab": {
          "base_uri": "https://localhost:8080/",
          "height": 74
        },
        "id": "F3ivSVAyqMuc",
        "outputId": "23722fd6-6b93-4427-ddb1-77eff6862c51"
      },
      "execution_count": 10,
      "outputs": [
        {
          "output_type": "execute_result",
          "data": {
            "text/plain": [
              "KNeighborsClassifier()"
            ],
            "text/html": [
              "<style>#sk-container-id-2 {color: black;background-color: white;}#sk-container-id-2 pre{padding: 0;}#sk-container-id-2 div.sk-toggleable {background-color: white;}#sk-container-id-2 label.sk-toggleable__label {cursor: pointer;display: block;width: 100%;margin-bottom: 0;padding: 0.3em;box-sizing: border-box;text-align: center;}#sk-container-id-2 label.sk-toggleable__label-arrow:before {content: \"▸\";float: left;margin-right: 0.25em;color: #696969;}#sk-container-id-2 label.sk-toggleable__label-arrow:hover:before {color: black;}#sk-container-id-2 div.sk-estimator:hover label.sk-toggleable__label-arrow:before {color: black;}#sk-container-id-2 div.sk-toggleable__content {max-height: 0;max-width: 0;overflow: hidden;text-align: left;background-color: #f0f8ff;}#sk-container-id-2 div.sk-toggleable__content pre {margin: 0.2em;color: black;border-radius: 0.25em;background-color: #f0f8ff;}#sk-container-id-2 input.sk-toggleable__control:checked~div.sk-toggleable__content {max-height: 200px;max-width: 100%;overflow: auto;}#sk-container-id-2 input.sk-toggleable__control:checked~label.sk-toggleable__label-arrow:before {content: \"▾\";}#sk-container-id-2 div.sk-estimator input.sk-toggleable__control:checked~label.sk-toggleable__label {background-color: #d4ebff;}#sk-container-id-2 div.sk-label input.sk-toggleable__control:checked~label.sk-toggleable__label {background-color: #d4ebff;}#sk-container-id-2 input.sk-hidden--visually {border: 0;clip: rect(1px 1px 1px 1px);clip: rect(1px, 1px, 1px, 1px);height: 1px;margin: -1px;overflow: hidden;padding: 0;position: absolute;width: 1px;}#sk-container-id-2 div.sk-estimator {font-family: monospace;background-color: #f0f8ff;border: 1px dotted black;border-radius: 0.25em;box-sizing: border-box;margin-bottom: 0.5em;}#sk-container-id-2 div.sk-estimator:hover {background-color: #d4ebff;}#sk-container-id-2 div.sk-parallel-item::after {content: \"\";width: 100%;border-bottom: 1px solid gray;flex-grow: 1;}#sk-container-id-2 div.sk-label:hover label.sk-toggleable__label {background-color: #d4ebff;}#sk-container-id-2 div.sk-serial::before {content: \"\";position: absolute;border-left: 1px solid gray;box-sizing: border-box;top: 0;bottom: 0;left: 50%;z-index: 0;}#sk-container-id-2 div.sk-serial {display: flex;flex-direction: column;align-items: center;background-color: white;padding-right: 0.2em;padding-left: 0.2em;position: relative;}#sk-container-id-2 div.sk-item {position: relative;z-index: 1;}#sk-container-id-2 div.sk-parallel {display: flex;align-items: stretch;justify-content: center;background-color: white;position: relative;}#sk-container-id-2 div.sk-item::before, #sk-container-id-2 div.sk-parallel-item::before {content: \"\";position: absolute;border-left: 1px solid gray;box-sizing: border-box;top: 0;bottom: 0;left: 50%;z-index: -1;}#sk-container-id-2 div.sk-parallel-item {display: flex;flex-direction: column;z-index: 1;position: relative;background-color: white;}#sk-container-id-2 div.sk-parallel-item:first-child::after {align-self: flex-end;width: 50%;}#sk-container-id-2 div.sk-parallel-item:last-child::after {align-self: flex-start;width: 50%;}#sk-container-id-2 div.sk-parallel-item:only-child::after {width: 0;}#sk-container-id-2 div.sk-dashed-wrapped {border: 1px dashed gray;margin: 0 0.4em 0.5em 0.4em;box-sizing: border-box;padding-bottom: 0.4em;background-color: white;}#sk-container-id-2 div.sk-label label {font-family: monospace;font-weight: bold;display: inline-block;line-height: 1.2em;}#sk-container-id-2 div.sk-label-container {text-align: center;}#sk-container-id-2 div.sk-container {/* jupyter's `normalize.less` sets `[hidden] { display: none; }` but bootstrap.min.css set `[hidden] { display: none !important; }` so we also need the `!important` here to be able to override the default hidden behavior on the sphinx rendered scikit-learn.org. See: https://github.com/scikit-learn/scikit-learn/issues/21755 */display: inline-block !important;position: relative;}#sk-container-id-2 div.sk-text-repr-fallback {display: none;}</style><div id=\"sk-container-id-2\" class=\"sk-top-container\"><div class=\"sk-text-repr-fallback\"><pre>KNeighborsClassifier()</pre><b>In a Jupyter environment, please rerun this cell to show the HTML representation or trust the notebook. <br />On GitHub, the HTML representation is unable to render, please try loading this page with nbviewer.org.</b></div><div class=\"sk-container\" hidden><div class=\"sk-item\"><div class=\"sk-estimator sk-toggleable\"><input class=\"sk-toggleable__control sk-hidden--visually\" id=\"sk-estimator-id-2\" type=\"checkbox\" checked><label for=\"sk-estimator-id-2\" class=\"sk-toggleable__label sk-toggleable__label-arrow\">KNeighborsClassifier</label><div class=\"sk-toggleable__content\"><pre>KNeighborsClassifier()</pre></div></div></div></div></div>"
            ]
          },
          "metadata": {},
          "execution_count": 10
        }
      ]
    },
    {
      "cell_type": "code",
      "source": [
        "from sklearn.model_selection import GridSearchCV\n",
        "\n",
        "# Hyperparameter tuning for KNN\n",
        "param_grid = {'n_neighbors': [3, 5, 7, 9, 11]}\n",
        "grid_search = GridSearchCV(KNeighborsClassifier(), param_grid, cv=5)\n",
        "grid_search.fit(X_train, y_train)\n",
        "\n",
        "# Get the best hyperparameters\n",
        "best_k = grid_search.best_params_['n_neighbors']\n",
        "\n",
        "# Train the KNN model with the best hyperparameters\n",
        "knn_model = KNeighborsClassifier(n_neighbors=best_k)\n",
        "knn_model.fit(X_train, y_train)"
      ],
      "metadata": {
        "colab": {
          "base_uri": "https://localhost:8080/",
          "height": 74
        },
        "id": "2RJzmSJxrvwn",
        "outputId": "20c67bb9-e4ae-493d-d2c4-4ba8d099c619"
      },
      "execution_count": 11,
      "outputs": [
        {
          "output_type": "execute_result",
          "data": {
            "text/plain": [
              "KNeighborsClassifier(n_neighbors=3)"
            ],
            "text/html": [
              "<style>#sk-container-id-3 {color: black;background-color: white;}#sk-container-id-3 pre{padding: 0;}#sk-container-id-3 div.sk-toggleable {background-color: white;}#sk-container-id-3 label.sk-toggleable__label {cursor: pointer;display: block;width: 100%;margin-bottom: 0;padding: 0.3em;box-sizing: border-box;text-align: center;}#sk-container-id-3 label.sk-toggleable__label-arrow:before {content: \"▸\";float: left;margin-right: 0.25em;color: #696969;}#sk-container-id-3 label.sk-toggleable__label-arrow:hover:before {color: black;}#sk-container-id-3 div.sk-estimator:hover label.sk-toggleable__label-arrow:before {color: black;}#sk-container-id-3 div.sk-toggleable__content {max-height: 0;max-width: 0;overflow: hidden;text-align: left;background-color: #f0f8ff;}#sk-container-id-3 div.sk-toggleable__content pre {margin: 0.2em;color: black;border-radius: 0.25em;background-color: #f0f8ff;}#sk-container-id-3 input.sk-toggleable__control:checked~div.sk-toggleable__content {max-height: 200px;max-width: 100%;overflow: auto;}#sk-container-id-3 input.sk-toggleable__control:checked~label.sk-toggleable__label-arrow:before {content: \"▾\";}#sk-container-id-3 div.sk-estimator input.sk-toggleable__control:checked~label.sk-toggleable__label {background-color: #d4ebff;}#sk-container-id-3 div.sk-label input.sk-toggleable__control:checked~label.sk-toggleable__label {background-color: #d4ebff;}#sk-container-id-3 input.sk-hidden--visually {border: 0;clip: rect(1px 1px 1px 1px);clip: rect(1px, 1px, 1px, 1px);height: 1px;margin: -1px;overflow: hidden;padding: 0;position: absolute;width: 1px;}#sk-container-id-3 div.sk-estimator {font-family: monospace;background-color: #f0f8ff;border: 1px dotted black;border-radius: 0.25em;box-sizing: border-box;margin-bottom: 0.5em;}#sk-container-id-3 div.sk-estimator:hover {background-color: #d4ebff;}#sk-container-id-3 div.sk-parallel-item::after {content: \"\";width: 100%;border-bottom: 1px solid gray;flex-grow: 1;}#sk-container-id-3 div.sk-label:hover label.sk-toggleable__label {background-color: #d4ebff;}#sk-container-id-3 div.sk-serial::before {content: \"\";position: absolute;border-left: 1px solid gray;box-sizing: border-box;top: 0;bottom: 0;left: 50%;z-index: 0;}#sk-container-id-3 div.sk-serial {display: flex;flex-direction: column;align-items: center;background-color: white;padding-right: 0.2em;padding-left: 0.2em;position: relative;}#sk-container-id-3 div.sk-item {position: relative;z-index: 1;}#sk-container-id-3 div.sk-parallel {display: flex;align-items: stretch;justify-content: center;background-color: white;position: relative;}#sk-container-id-3 div.sk-item::before, #sk-container-id-3 div.sk-parallel-item::before {content: \"\";position: absolute;border-left: 1px solid gray;box-sizing: border-box;top: 0;bottom: 0;left: 50%;z-index: -1;}#sk-container-id-3 div.sk-parallel-item {display: flex;flex-direction: column;z-index: 1;position: relative;background-color: white;}#sk-container-id-3 div.sk-parallel-item:first-child::after {align-self: flex-end;width: 50%;}#sk-container-id-3 div.sk-parallel-item:last-child::after {align-self: flex-start;width: 50%;}#sk-container-id-3 div.sk-parallel-item:only-child::after {width: 0;}#sk-container-id-3 div.sk-dashed-wrapped {border: 1px dashed gray;margin: 0 0.4em 0.5em 0.4em;box-sizing: border-box;padding-bottom: 0.4em;background-color: white;}#sk-container-id-3 div.sk-label label {font-family: monospace;font-weight: bold;display: inline-block;line-height: 1.2em;}#sk-container-id-3 div.sk-label-container {text-align: center;}#sk-container-id-3 div.sk-container {/* jupyter's `normalize.less` sets `[hidden] { display: none; }` but bootstrap.min.css set `[hidden] { display: none !important; }` so we also need the `!important` here to be able to override the default hidden behavior on the sphinx rendered scikit-learn.org. See: https://github.com/scikit-learn/scikit-learn/issues/21755 */display: inline-block !important;position: relative;}#sk-container-id-3 div.sk-text-repr-fallback {display: none;}</style><div id=\"sk-container-id-3\" class=\"sk-top-container\"><div class=\"sk-text-repr-fallback\"><pre>KNeighborsClassifier(n_neighbors=3)</pre><b>In a Jupyter environment, please rerun this cell to show the HTML representation or trust the notebook. <br />On GitHub, the HTML representation is unable to render, please try loading this page with nbviewer.org.</b></div><div class=\"sk-container\" hidden><div class=\"sk-item\"><div class=\"sk-estimator sk-toggleable\"><input class=\"sk-toggleable__control sk-hidden--visually\" id=\"sk-estimator-id-3\" type=\"checkbox\" checked><label for=\"sk-estimator-id-3\" class=\"sk-toggleable__label sk-toggleable__label-arrow\">KNeighborsClassifier</label><div class=\"sk-toggleable__content\"><pre>KNeighborsClassifier(n_neighbors=3)</pre></div></div></div></div></div>"
            ]
          },
          "metadata": {},
          "execution_count": 11
        }
      ]
    },
    {
      "cell_type": "code",
      "source": [
        "from sklearn.model_selection import GridSearchCV, StratifiedKFold\n",
        "from sklearn.neighbors import KNeighborsClassifier\n",
        "from sklearn.metrics import accuracy_score, confusion_matrix\n",
        "from sklearn.preprocessing import LabelEncoder, StandardScaler\n",
        "from skimage.transform import rotate\n",
        "import numpy as np\n",
        "\n",
        "# Function to perform data augmentation\n",
        "def augment_data(data, labels):\n",
        "    augmented_data = []\n",
        "    augmented_labels = []\n",
        "\n",
        "    for i in range(len(data)):\n",
        "        augmented_data.append(data[i])\n",
        "        augmented_labels.append(labels[i])\n",
        "\n",
        "        # Add rotated versions of the images\n",
        "        rotated_image = rotate(data[i].reshape(100, 100), angle=45, mode='reflect').flatten()\n",
        "        augmented_data.append(rotated_image)\n",
        "        augmented_labels.append(labels[i])\n",
        "\n",
        "    return np.array(augmented_data), np.array(augmented_labels)\n",
        "\n",
        "# Augment the training data\n",
        "augmented_train_data, augmented_train_labels = augment_data(X_train, y_train)\n",
        "\n",
        "# Hyperparameter tuning for KNN\n",
        "param_grid = {'n_neighbors': [3, 5, 7, 9, 11]}\n",
        "stratified_kfold = StratifiedKFold(n_splits=5, shuffle=True, random_state=42)\n",
        "grid_search = GridSearchCV(KNeighborsClassifier(), param_grid, cv=stratified_kfold)\n",
        "grid_search.fit(augmented_train_data, augmented_train_labels)\n",
        "\n",
        "# Get the best hyperparameters\n",
        "best_k = grid_search.best_params_['n_neighbors']\n",
        "\n",
        "# Train the KNN model with the best hyperparameters\n",
        "knn_model = KNeighborsClassifier(n_neighbors=best_k)\n",
        "knn_model.fit(augmented_train_data, augmented_train_labels)\n",
        "\n",
        "# Predict on the validation set\n",
        "y_pred = knn_model.predict(X_val)\n",
        "\n",
        "# Evaluate the model\n",
        "validation_accuracy = accuracy_score(y_val, y_pred)\n",
        "print(f\"Validation Accuracy after Hyperparameter Tuning and Data Augmentation: {validation_accuracy}\")\n",
        "\n",
        "# Predict on the test set\n",
        "test_predictions = knn_model.predict(test_data_normalized)\n",
        "\n",
        "# Evaluate the model on the test set\n",
        "test_accuracy = accuracy_score(test_labels_encoded, test_predictions)\n",
        "print(f\"Test Accuracy after Hyperparameter Tuning and Data Augmentation: {test_accuracy}\")"
      ],
      "metadata": {
        "colab": {
          "base_uri": "https://localhost:8080/"
        },
        "id": "1fr8fvsdv6-m",
        "outputId": "47f388d5-db58-4ba5-cb0e-0ed02cfa37ea"
      },
      "execution_count": 12,
      "outputs": [
        {
          "output_type": "stream",
          "name": "stdout",
          "text": [
            "Validation Accuracy after Hyperparameter Tuning and Data Augmentation: 0.933378196500673\n",
            "Test Accuracy after Hyperparameter Tuning and Data Augmentation: 0.5168100078186083\n"
          ]
        }
      ]
    },
    {
      "cell_type": "code",
      "source": [
        "from sklearn.svm import SVC\n",
        "from sklearn.ensemble import RandomForestClassifier\n",
        "from sklearn.metrics import accuracy_score\n",
        "\n",
        "# Train a Support Vector Machine (SVM) model\n",
        "svm_model = SVC(kernel='linear', C=1.0)\n",
        "svm_model.fit(train_data_normalized, train_labels_encoded)\n",
        "\n",
        "# Evaluate SVM model on test set\n",
        "svm_test_predictions = svm_model.predict(test_data_normalized)\n",
        "svm_test_accuracy = accuracy_score(test_labels_encoded, svm_test_predictions)\n",
        "print(f\"SVM Test Accuracy: {svm_test_accuracy}\")\n",
        "\n",
        "# Train a Random Forest model\n",
        "rf_model = RandomForestClassifier(n_estimators=100, random_state=42)\n",
        "rf_model.fit(train_data_normalized, train_labels_encoded)\n",
        "\n",
        "# Evaluate Random Forest model on test set\n",
        "rf_test_predictions = rf_model.predict(test_data_normalized)\n",
        "rf_test_accuracy = accuracy_score(test_labels_encoded, rf_test_predictions)\n",
        "print(f\"Random Forest Test Accuracy: {rf_test_accuracy}\")\n"
      ],
      "metadata": {
        "colab": {
          "base_uri": "https://localhost:8080/"
        },
        "id": "Q3iznkDrxxZP",
        "outputId": "07f15b8b-9852-42c0-aab8-fcb3d4e490c0"
      },
      "execution_count": 13,
      "outputs": [
        {
          "output_type": "stream",
          "name": "stdout",
          "text": [
            "SVM Test Accuracy: 0.5027365129007036\n",
            "Random Forest Test Accuracy: 0.6286161063330727\n"
          ]
        }
      ]
    },
    {
      "cell_type": "code",
      "source": [
        "from sklearn.model_selection import GridSearchCV\n",
        "from sklearn.ensemble import RandomForestClassifier\n",
        "\n",
        "# Define the hyperparameters grid\n",
        "param_grid = {\n",
        "    'n_estimators': [50, 100, 200],\n",
        "    'max_depth': [None, 10, 20],\n",
        "    'min_samples_split': [2, 5, 10],\n",
        "    'min_samples_leaf': [1, 2, 4]\n",
        "}\n",
        "\n",
        "# Initialize the Random Forest classifier\n",
        "rf_classifier = RandomForestClassifier(random_state=42)\n",
        "\n",
        "# Perform grid search cross-validation\n",
        "grid_search = GridSearchCV(rf_classifier, param_grid, cv=5, n_jobs=-1)\n",
        "grid_search.fit(train_data_normalized, train_labels_encoded)\n",
        "\n",
        "# Get the best hyperparameters\n",
        "best_params = grid_search.best_params_\n",
        "best_rf_classifier = grid_search.best_estimator_\n",
        "\n",
        "# Evaluate the best model on the test set\n",
        "best_rf_test_predictions = best_rf_classifier.predict(test_data_normalized)\n",
        "best_rf_test_accuracy = accuracy_score(test_labels_encoded, best_rf_test_predictions)\n",
        "print(f\"Best Random Forest Test Accuracy: {best_rf_test_accuracy}\")\n",
        "print(f\"Best Hyperparameters: {best_params}\")\n"
      ],
      "metadata": {
        "id": "-yB8bw-FB4eB"
      },
      "execution_count": null,
      "outputs": []
    },
    {
      "cell_type": "code",
      "source": [
        "# Predict on the validation set\n",
        "y_pred = knn_model.predict(X_val)\n",
        "\n",
        "# Evaluate the model\n",
        "accuracy = accuracy_score(y_val, y_pred)\n",
        "print(f\"Validation Accuracy: {accuracy}\")"
      ],
      "metadata": {
        "id": "uk0-LaoJvYBu"
      },
      "execution_count": null,
      "outputs": []
    },
    {
      "cell_type": "markdown",
      "source": [
        "Assessing Model Performance on Test Set"
      ],
      "metadata": {
        "id": "2YErDL_K5PY5"
      }
    },
    {
      "cell_type": "code",
      "source": [
        "# Predict on the test set\n",
        "test_predictions = knn_model.predict(test_data_normalized)\n",
        "\n",
        "# Evaluate the model on the test set\n",
        "test_accuracy = accuracy_score(test_labels_encoded, test_predictions)\n",
        "print(f\"Test Accuracy: {test_accuracy}\")"
      ],
      "metadata": {
        "id": "qzHE6c2WvYEp"
      },
      "execution_count": null,
      "outputs": []
    },
    {
      "cell_type": "markdown",
      "source": [
        "Optimizing KNN Hyperparameters with GridSearchCV"
      ],
      "metadata": {
        "id": "mdgr3af45c7e"
      }
    },
    {
      "cell_type": "code",
      "source": [
        "from sklearn.model_selection import GridSearchCV\n",
        "from sklearn.metrics import confusion_matrix, classification_report\n",
        "\n",
        "# Hyperparameter tuning for KNN using GridSearchCV\n",
        "param_grid = {'n_neighbors': [3, 5, 7, 9]}\n",
        "grid_search = GridSearchCV(KNeighborsClassifier(), param_grid, cv=5)\n",
        "grid_search.fit(X_train, y_train)\n",
        "\n",
        "# Get the best hyperparameters\n",
        "best_k = grid_search.best_params_['n_neighbors']"
      ],
      "metadata": {
        "id": "FaArGxfFvzFt"
      },
      "execution_count": null,
      "outputs": []
    },
    {
      "cell_type": "markdown",
      "source": [
        "Training KNN Model with Optimized Hyperparameters and Assessing Performance"
      ],
      "metadata": {
        "id": "9UhqHaO25z5w"
      }
    },
    {
      "cell_type": "code",
      "source": [
        "# Train the KNN model with the best hyperparameters\n",
        "knn_model = KNeighborsClassifier(n_neighbors=best_k)\n",
        "knn_model.fit(X_train, y_train)\n",
        "\n",
        "# Predict on the validation set\n",
        "y_pred = knn_model.predict(X_val)\n",
        "\n",
        "# Evaluate the model with the best hyperparameters\n",
        "accuracy = accuracy_score(y_val, y_pred)\n",
        "print(f\"Validation Accuracy with Best k ({best_k}): {accuracy}\")\n",
        "\n",
        "# Predict on the test set\n",
        "test_predictions = knn_model.predict(test_data_normalized)\n",
        "\n",
        "# Evaluate the model on the test set\n",
        "test_accuracy = accuracy_score(test_labels_encoded, test_predictions)\n",
        "print(f\"Test Accuracy: {test_accuracy}\")"
      ],
      "metadata": {
        "id": "NimHDaQzvzHo"
      },
      "execution_count": null,
      "outputs": []
    },
    {
      "cell_type": "markdown",
      "source": [
        "\n",
        "Analyzing Model Performance with Confusion Matrix and Classification Report"
      ],
      "metadata": {
        "id": "isLjchgS9TOq"
      }
    },
    {
      "cell_type": "code",
      "source": [
        "# Display confusion matrix and classification report\n",
        "conf_matrix = confusion_matrix(test_labels_encoded, test_predictions)\n",
        "class_report = classification_report(test_labels_encoded, test_predictions, target_names=label_encoder.classes_)\n",
        "\n",
        "print(\"Confusion Matrix:\")\n",
        "print(conf_matrix)\n",
        "\n",
        "print(\"\\nClassification Report:\")\n",
        "print(class_report)"
      ],
      "metadata": {
        "id": "LWKsVtwOvzLN"
      },
      "execution_count": null,
      "outputs": []
    },
    {
      "cell_type": "markdown",
      "source": [],
      "metadata": {
        "id": "cVfhEgxA2g1J"
      }
    },
    {
      "cell_type": "code",
      "source": [
        "from sklearn.metrics import confusion_matrix\n",
        "import seaborn as sns\n",
        "import matplotlib.pyplot as plt\n",
        "\n",
        "# Assuming y_test and y_pred are the true labels and predicted labels, respectively\n",
        "conf_matrix_knn = confusion_matrix(test_labels_encoded, test_predictions)\n",
        "\n",
        "# Calculate True Positive (TP), True Negative (TN), False Positive (FP), False Negative (FN)\n",
        "TP = conf_matrix_knn[1, 1]\n",
        "TN = conf_matrix_knn[0, 0]\n",
        "FP = conf_matrix_knn[0, 1]\n",
        "FN = conf_matrix_knn[1, 0]\n",
        "\n",
        "# Calculate sensitivity (recall)\n",
        "sensitivity_knn = TP / (TP + FN)\n",
        "\n",
        "# Calculate specificity\n",
        "specificity_knn = TN / (TN + FP)\n",
        "\n",
        "# Display the results\n",
        "print(f'Sensitivity (Recall): {sensitivity_knn:.2f}')\n",
        "print(f'Specificity: {specificity_knn:.2f}')\n",
        "\n",
        "# Plot the confusion matrix using seaborn\n",
        "plt.figure(figsize=(8, 6))\n",
        "sns.heatmap(conf_matrix_knn, annot=True, fmt='d', cmap='Blues', cbar=False,\n",
        "            xticklabels=label_encoder.classes_, yticklabels=label_encoder.classes_)\n",
        "plt.title('KNN Confusion Matrix')\n",
        "plt.xlabel('Predicted Label')\n",
        "plt.ylabel('True Label')\n",
        "plt.show()\n"
      ],
      "metadata": {
        "id": "Wuj4swx-vzM8"
      },
      "execution_count": null,
      "outputs": []
    },
    {
      "cell_type": "code",
      "source": [
        "from skimage.io import imread\n",
        "from skimage.transform import resize\n",
        "\n",
        "# Load and preprocess the new image\n",
        "new_image_path = '/content/drive/MyDrive/example data/example data/moderateDem0.jpg'\n",
        "new_image = imread(new_image_path, as_gray=True)\n",
        "new_image_resized = resize(new_image, (100, 100)).flatten()  # Resize and flatten the image\n",
        "\n",
        "# Normalize the pixel values using the same scaler used during training\n",
        "new_image_normalized = scaler.transform([new_image_resized])\n",
        "\n",
        "# Predict the class using the trained KNN model\n",
        "new_image_prediction = knn_model.predict(new_image_normalized)\n",
        "\n",
        "# Decode the predicted label\n",
        "predicted_class = label_encoder.classes_[new_image_prediction[0]]\n",
        "\n",
        "print(f'The predicted class for the new image is: {predicted_class}')\n"
      ],
      "metadata": {
        "id": "zchbyBXvvzQg"
      },
      "execution_count": null,
      "outputs": []
    },
    {
      "cell_type": "code",
      "source": [
        "from skimage.io import imread\n",
        "from skimage.transform import resize\n",
        "\n",
        "# Load and preprocess the new image\n",
        "new_image_path = '/content/drive/MyDrive/example data/example data/MRI.jpg'\n",
        "new_image = imread(new_image_path, as_gray=True)\n",
        "new_image_resized = resize(new_image, (100, 100)).flatten()  # Resize and flatten the image\n",
        "\n",
        "# Normalize the pixel values using the same scaler used during training\n",
        "new_image_normalized = scaler.transform([new_image_resized])\n",
        "\n",
        "# Predict the class using the trained KNN model\n",
        "new_image_prediction = knn_model.predict(new_image_normalized)\n",
        "\n",
        "# Decode the predicted label\n",
        "predicted_class = label_encoder.classes_[new_image_prediction[0]]\n",
        "\n",
        "print(f'The predicted class for the new image is: {predicted_class}')\n"
      ],
      "metadata": {
        "id": "pK5iGSk6vzSR"
      },
      "execution_count": null,
      "outputs": []
    },
    {
      "cell_type": "markdown",
      "source": [
        "Class Prediction for New Image Using Trained Model"
      ],
      "metadata": {
        "id": "NrI8kGm06KoO"
      }
    },
    {
      "cell_type": "code",
      "source": [
        "from skimage.io import imread\n",
        "from skimage.transform import resize\n",
        "\n",
        "# Load and preprocess the new image\n",
        "new_image_path = '/content/drive/MyDrive/Colab Notebooks/Alzheimer Dataset/Alzheimer Dataset/train/NonDemented/nonDem2.jpg'\n",
        "new_image = imread(new_image_path, as_gray=True)\n",
        "new_image_resized = resize(new_image, (100, 100)).flatten()  # Resize and flatten the image\n",
        "\n",
        "# Normalize the pixel values using the same scaler used during training\n",
        "new_image_normalized = scaler.transform([new_image_resized])\n",
        "\n",
        "# Predict the class using the trained KNN model\n",
        "new_image_prediction = knn_model.predict(new_image_normalized)\n",
        "\n",
        "# Decode the predicted label\n",
        "predicted_class = label_encoder.classes_[new_image_prediction[0]]\n",
        "\n",
        "print(f'The predicted class for the new image is: {predicted_class}')\n"
      ],
      "metadata": {
        "id": "-DzB-oeBwD24"
      },
      "execution_count": null,
      "outputs": []
    },
    {
      "cell_type": "markdown",
      "source": [
        "Classifying New Image Using Trained KNN Model"
      ],
      "metadata": {
        "id": "M4Tvgqzx6XIJ"
      }
    },
    {
      "cell_type": "code",
      "source": [
        "from skimage.io import imread\n",
        "from skimage.transform import resize\n",
        "\n",
        "# Load and preprocess the new image\n",
        "new_image_path = '/content/drive/MyDrive/example data/example data/nd.png'\n",
        "new_image = imread(new_image_path, as_gray=True)\n",
        "new_image_resized = resize(new_image, (100, 100)).flatten()  # Resize and flatten the image\n",
        "\n",
        "# Normalize the pixel values using the same scaler used during training\n",
        "new_image_normalized = scaler.transform([new_image_resized])\n",
        "\n",
        "# Predict the class using the trained KNN model\n",
        "new_image_prediction = knn_model.predict(new_image_normalized)\n",
        "\n",
        "# Decode the predicted label\n",
        "predicted_class = label_encoder.classes_[new_image_prediction[0]]\n",
        "\n",
        "print(f'The predicted class for the new image is: {predicted_class}')\n"
      ],
      "metadata": {
        "id": "QrS4Uxh4wD4f"
      },
      "execution_count": null,
      "outputs": []
    },
    {
      "cell_type": "markdown",
      "source": [
        "Data Loading and Preprocessing Function"
      ],
      "metadata": {
        "id": "THUK_Tve7HCH"
      }
    },
    {
      "cell_type": "markdown",
      "source": [],
      "metadata": {
        "id": "nk452uh17DKz"
      }
    },
    {
      "cell_type": "code",
      "source": [
        "from sklearn.model_selection import train_test_split, cross_val_score, StratifiedKFold\n",
        "from sklearn.neighbors import KNeighborsClassifier\n",
        "from sklearn.metrics import accuracy_score, confusion_matrix\n",
        "from sklearn.preprocessing import LabelEncoder, StandardScaler\n",
        "from skimage.io import imread\n",
        "from skimage.transform import resize\n",
        "import matplotlib.pyplot as plt\n",
        "import seaborn as sns\n",
        "import numpy as np\n",
        "import os\n",
        "\n",
        "# Function to load and preprocess the dataset\n",
        "def load_and_preprocess_dataset(folder):\n",
        "    data = []\n",
        "    labels = []\n",
        "\n",
        "    for class_folder in os.listdir(os.path.join(path_to_dataset, folder)):\n",
        "        class_path = os.path.join(path_to_dataset, folder, class_folder)\n",
        "\n",
        "        for image_file in os.listdir(class_path):\n",
        "            image_path = os.path.join(class_path, image_file)\n",
        "            image = imread(image_path, as_gray=True)\n",
        "            image = resize(image, (100, 100))  # Adjust the size as needed\n",
        "            flattened_image = image.flatten()\n",
        "\n",
        "            data.append(flattened_image)\n",
        "            labels.append(class_folder)\n",
        "\n",
        "    return np.array(data), np.array(labels)\n",
        "\n",
        "# Load and preprocess the dataset\n",
        "path_to_dataset = '/content/drive/MyDrive/Colab Notebooks/Alzheimer Dataset/Alzheimer Dataset'\n",
        "train_data, train_labels = load_and_preprocess_dataset('train')\n",
        "test_data, test_labels = load_and_preprocess_dataset('test')\n",
        "\n",
        "# Encode labels\n",
        "label_encoder = LabelEncoder()\n",
        "train_labels_encoded = label_encoder.fit_transform(train_labels)\n",
        "test_labels_encoded = label_encoder.transform(test_labels)\n",
        "\n",
        "# Normalize pixel values\n",
        "scaler = StandardScaler()\n",
        "train_data_normalized = scaler.fit_transform(train_data)\n",
        "test_data_normalized = scaler.transform(test_data)\n",
        "\n",
        "# Split the data into training and validation sets\n",
        "X_train, X_val, y_train, y_val = train_test_split(\n",
        "    train_data_normalized, train_labels_encoded, test_size=0.2, random_state=42\n",
        ")\n",
        "\n",
        "# Apply data augmentation to the training set\n",
        "augmented_data = []\n",
        "augmented_labels = []\n",
        "\n",
        "for i in range(len(X_train)):\n",
        "    augmented_data.append(X_train[i])\n",
        "    augmented_labels.append(y_train[i])\n",
        "\n",
        "    # Add rotated versions of the images\n",
        "    rotated_image = np.rot90(X_train[i].reshape(100, 100)).flatten()\n",
        "    augmented_data.append(rotated_image)\n",
        "    augmented_labels.append(y_train[i])\n",
        "\n",
        "# Create a KNN model\n",
        "knn_model = KNeighborsClassifier(n_neighbors=5)\n",
        "\n",
        "# Fit the KNN model on the training data\n",
        "knn_model.fit(np.array(augmented_data), np.array(augmented_labels))\n",
        "\n",
        "# Use StratifiedKFold for cross-validation\n",
        "stratified_kfold = StratifiedKFold(n_splits=5, shuffle=True, random_state=42)\n",
        "\n",
        "# Perform cross-validation\n",
        "cv_scores = cross_val_score(knn_model, train_data_normalized, train_labels_encoded, cv=stratified_kfold)\n",
        "\n",
        "# Print the cross-validation scores\n",
        "print(\"Cross-Validation Scores:\", cv_scores)\n",
        "print(\"Mean Accuracy:\", np.mean(cv_scores))\n",
        "print(\"Standard Deviation of Accuracy:\", np.std(cv_scores))\n",
        "\n",
        "# Predict on the test set\n",
        "test_predictions = knn_model.predict(test_data_normalized)\n",
        "\n",
        "# Evaluate the model on the test set\n",
        "test_accuracy = accuracy_score(test_labels_encoded, test_predictions)\n",
        "print(f\"Test Accuracy: {test_accuracy}\")\n",
        "\n",
        "# Compare training and test accuracies\n",
        "training_accuracy = np.mean(cv_scores)\n",
        "print(f\"Training Accuracy: {training_accuracy}\")\n",
        "\n",
        "# Check for overfitting by comparing training and test accuracies\n",
        "overfitting_indicator = training_accuracy - test_accuracy\n",
        "if overfitting_indicator < 0:\n",
        "    print(\"The model is potentially overfitting.\")\n",
        "else:\n",
        "    print(\"The model is generalizing well to the test set.\")\n"
      ],
      "metadata": {
        "id": "TEuGUg8HwH4L"
      },
      "execution_count": null,
      "outputs": []
    },
    {
      "cell_type": "markdown",
      "source": [
        "Image Classification Using Trained KNN Model"
      ],
      "metadata": {
        "id": "EuwVWi3X731n"
      }
    },
    {
      "cell_type": "code",
      "source": [
        "from skimage.io import imread\n",
        "from skimage.transform import resize\n",
        "\n",
        "# Load and preprocess the new image\n",
        "new_image_path = '/content/drive/MyDrive/example data/example data/nd.png'\n",
        "new_image = imread(new_image_path, as_gray=True)\n",
        "new_image_resized = resize(new_image, (100, 100)).flatten()  # Resize and flatten the image\n",
        "\n",
        "# Normalize the pixel values using the same scaler used during training\n",
        "new_image_normalized = scaler.transform([new_image_resized])\n",
        "\n",
        "# Predict the class using the trained KNN model\n",
        "new_image_prediction = knn_model.predict(new_image_normalized)\n",
        "\n",
        "# Decode the predicted label\n",
        "predicted_class = label_encoder.classes_[new_image_prediction[0]]\n",
        "\n",
        "print(f'The predicted class for the new image is: {predicted_class}')\n"
      ],
      "metadata": {
        "id": "IcXHGM4vwH6B"
      },
      "execution_count": null,
      "outputs": []
    },
    {
      "cell_type": "markdown",
      "source": [
        "Image Classification with Trained KNN Model"
      ],
      "metadata": {
        "id": "Sn-qqUlA8GpS"
      }
    },
    {
      "cell_type": "code",
      "source": [
        "from skimage.io import imread\n",
        "from skimage.transform import resize\n",
        "\n",
        "# Load and preprocess the new image\n",
        "new_image_path = '/content/drive/MyDrive/example data/example data/vmd.png'\n",
        "new_image = imread(new_image_path, as_gray=True)\n",
        "new_image_resized = resize(new_image, (100, 100)).flatten()  # Resize and flatten the image\n",
        "\n",
        "# Normalize the pixel values using the same scaler used during training\n",
        "new_image_normalized = scaler.transform([new_image_resized])\n",
        "\n",
        "# Predict the class using the trained KNN model\n",
        "new_image_prediction = knn_model.predict(new_image_normalized)\n",
        "\n",
        "# Decode the predicted label\n",
        "predicted_class_index = new_image_prediction[0]\n",
        "predicted_class = label_encoder.classes_[predicted_class_index]\n",
        "\n",
        "print(f'The predicted class for the new image is: {predicted_class}')\n",
        "\n"
      ],
      "metadata": {
        "id": "T3_yfeT2wH9f"
      },
      "execution_count": null,
      "outputs": []
    },
    {
      "cell_type": "markdown",
      "source": [
        "\n",
        "Enhancing KNN Performance with GridSearchCV and Data Augmentation"
      ],
      "metadata": {
        "id": "MGoLjXiO8ew2"
      }
    },
    {
      "cell_type": "code",
      "source": [
        "from sklearn.model_selection import GridSearchCV\n",
        "from sklearn.metrics import accuracy_score\n",
        "from skimage.transform import rotate\n",
        "\n",
        "# Function to perform data augmentation\n",
        "def augment_data(data, labels):\n",
        "    augmented_data = []\n",
        "    augmented_labels = []\n",
        "\n",
        "    for i in range(len(data)):\n",
        "        augmented_data.append(data[i])\n",
        "        augmented_labels.append(labels[i])\n",
        "\n",
        "        # Add rotated versions of the images\n",
        "        rotated_image = rotate(data[i].reshape(100, 100), angle=45, mode='reflect').flatten()\n",
        "        augmented_data.append(rotated_image)\n",
        "        augmented_labels.append(labels[i])\n",
        "\n",
        "    return np.array(augmented_data), np.array(augmented_labels)\n",
        "\n",
        "# Hyperparameter tuning for KNN\n",
        "param_grid = {'n_neighbors': [3, 5, 7, 9, 11]}\n",
        "grid_search = GridSearchCV(KNeighborsClassifier(), param_grid, cv=stratified_kfold)\n",
        "grid_search.fit(train_data_normalized, train_labels_encoded)\n",
        "\n",
        "# Get the best hyperparameters\n",
        "best_k = grid_search.best_params_['n_neighbors']\n",
        "\n",
        "# Perform data augmentation\n",
        "augmented_train_data, augmented_train_labels = augment_data(X_train, y_train)\n",
        "\n",
        "# Train the KNN model with the best hyperparameters\n",
        "knn_model = KNeighborsClassifier(n_neighbors=best_k)\n",
        "knn_model.fit(augmented_train_data, augmented_train_labels)\n",
        "\n",
        "# Predict on the validation set\n",
        "y_pred = knn_model.predict(X_val)\n",
        "\n",
        "# Evaluate the model\n",
        "validation_accuracy = accuracy_score(y_val, y_pred)\n",
        "print(f\"Validation Accuracy after Hyperparameter Tuning and Data Augmentation: {validation_accuracy}\")\n",
        "\n",
        "# Predict on the test set\n",
        "test_predictions = knn_model.predict(test_data_normalized)\n",
        "\n",
        "# Evaluate the model on the test set\n",
        "test_accuracy = accuracy_score(test_labels_encoded, test_predictions)\n",
        "print(f\"Test Accuracy after Hyperparameter Tuning and Data Augmentation: {test_accuracy}\")\n"
      ],
      "metadata": {
        "id": "-I_pla-bwIAb"
      },
      "execution_count": null,
      "outputs": []
    },
    {
      "cell_type": "code",
      "source": [
        "from skimage.io import imread\n",
        "from skimage.transform import resize\n",
        "\n",
        "# Load and preprocess the new image\n",
        "new_image_path = '/content/drive/MyDrive/example data/example data/vmd.png'\n",
        "new_image = imread(new_image_path, as_gray=True)\n",
        "new_image_resized = resize(new_image, (100, 100)).flatten()  # Resize and flatten the image\n",
        "\n",
        "# Normalize the pixel values using the same scaler used during training\n",
        "new_image_normalized = scaler.transform([new_image_resized])\n",
        "\n",
        "# Predict the class using the trained KNN model\n",
        "new_image_prediction = knn_model.predict(new_image_normalized)\n",
        "\n",
        "# Decode the predicted label\n",
        "predicted_class = label_encoder.classes_[new_image_prediction[0]]\n",
        "\n",
        "print(f'The predicted class for the new image is: {predicted_class}')\n"
      ],
      "metadata": {
        "id": "MGKhcdB2wUAr"
      },
      "execution_count": null,
      "outputs": []
    },
    {
      "cell_type": "code",
      "source": [
        "from skimage.io import imread\n",
        "from skimage.transform import resize\n",
        "\n",
        "# Load and preprocess the new image\n",
        "new_image_path = '/content/drive/MyDrive/example data/example data/md.png'\n",
        "new_image = imread(new_image_path, as_gray=True)\n",
        "new_image_resized = resize(new_image, (100, 100)).flatten()  # Resize and flatten the image\n",
        "\n",
        "# Normalize the pixel values using the same scaler used during training\n",
        "new_image_normalized = scaler.transform([new_image_resized])\n",
        "\n",
        "# Predict the class using the trained KNN model\n",
        "new_image_prediction = knn_model.predict(new_image_normalized)\n",
        "\n",
        "# Decode the predicted label\n",
        "predicted_class = label_encoder.classes_[new_image_prediction[0]]\n",
        "\n",
        "print(f'The predicted class for the new image is: {predicted_class}')\n"
      ],
      "metadata": {
        "id": "N9ofZij5wUCZ"
      },
      "execution_count": null,
      "outputs": []
    },
    {
      "cell_type": "code",
      "source": [
        "import pickle\n",
        "\n",
        "# Save the trained model\n",
        "with open('knn_model.pkl', 'wb') as file:\n",
        "    pickle.dump(knn_model, file)\n",
        "\n",
        "# Save the label encoder\n",
        "with open('label_encoder.pkl', 'wb') as file:\n",
        "    pickle.dump(label_encoder, file)\n",
        "\n",
        "# Save the scaler\n",
        "with open('scaler.pkl', 'wb') as file:\n",
        "    pickle.dump(scaler, file)\n",
        "\n",
        "print(\"Model, label encoder, and scaler saved successfully.\")"
      ],
      "metadata": {
        "id": "spvhKIXfwUGM"
      },
      "execution_count": null,
      "outputs": []
    },
    {
      "cell_type": "code",
      "source": [
        "import os\n",
        "import zipfile\n",
        "\n",
        "def create_zip_file():\n",
        "    # Create a list of files to download\n",
        "    files_to_download = ['knn_model.pkl', 'label_encoder.pkl', 'scaler.pkl']\n",
        "\n",
        "    # Create a zip file with the specified files\n",
        "    zip_filename = 'saved_model.zip'\n",
        "    with zipfile.ZipFile(zip_filename, 'w') as zip_file:\n",
        "        for file in files_to_download:\n",
        "            if os.path.exists(file):\n",
        "                zip_file.write(file)\n",
        "            else:\n",
        "                print(f'File {file} not found.')\n",
        "\n",
        "    # Serve the zip file for download\n",
        "    with open(zip_filename, 'rb') as zip_file:\n",
        "        zip_data = zip_file.read()\n",
        "\n",
        "    # Set the appropriate headers for file download\n",
        "    headers = {\n",
        "        'Content-Disposition': f'attachment; filename=\"{zip_filename}\"',\n",
        "        'Content-Type': 'application/zip',\n",
        "        'Content-Length': len(zip_data)\n",
        "    }\n",
        "\n",
        "    # Return the zip file data for download\n",
        "    return zip_data, headers"
      ],
      "metadata": {
        "id": "1Q1mHh27vzWL"
      },
      "execution_count": null,
      "outputs": []
    },
    {
      "cell_type": "code",
      "source": [
        "from joblib import dump\n",
        "\n",
        "# Save the trained KNN model\n",
        "dump(knn_model, 'knn_model.joblib')\n"
      ],
      "metadata": {
        "id": "mYiZn2bBJq5_"
      },
      "execution_count": null,
      "outputs": []
    },
    {
      "cell_type": "code",
      "source": [
        "from google.colab import files\n",
        "\n",
        "# Download the saved model file\n",
        "files.download('knn_model.joblib')\n"
      ],
      "metadata": {
        "id": "YN8t6k-WJ0pL"
      },
      "execution_count": null,
      "outputs": []
    },
    {
      "cell_type": "code",
      "source": [
        "from joblib import dump\n",
        "\n",
        "# Save the label encoder\n",
        "dump(label_encoder, 'label_encoder.joblib')\n"
      ],
      "metadata": {
        "id": "zamY_6ywJ02j"
      },
      "execution_count": null,
      "outputs": []
    },
    {
      "cell_type": "code",
      "source": [
        "from google.colab import files\n",
        "\n",
        "# Download the saved label encoder file\n",
        "files.download('label_encoder.joblib')\n"
      ],
      "metadata": {
        "id": "IE2n36mRJq_A"
      },
      "execution_count": null,
      "outputs": []
    }
  ]
}